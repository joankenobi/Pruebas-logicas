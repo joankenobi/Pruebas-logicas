{
  "nbformat": 4,
  "nbformat_minor": 0,
  "metadata": {
    "colab": {
      "name": "Practica con Timers",
      "provenance": [],
      "collapsed_sections": [],
      "authorship_tag": "ABX9TyN1JlV9+zlSCLDQ4fG1JBF+"
    },
    "kernelspec": {
      "name": "python3",
      "display_name": "Python 3"
    },
    "language_info": {
      "name": "python"
    }
  },
  "cells": [
    {
      "cell_type": "markdown",
      "metadata": {
        "id": "81L5R-DHhVtx"
      },
      "source": [
        "<p>Primer timer del blog python para impacientes<p/>"
      ]
    },
    {
      "cell_type": "code",
      "metadata": {
        "colab": {
          "base_uri": "https://localhost:8080/"
        },
        "id": "5s3cMqc6hNpi",
        "outputId": "3e8cfdc6-6b82-43d4-dcac-c8c7c28bff1f"
      },
      "source": [
        "import threading\n",
        "import time\n",
        " \n",
        "def retrasado():\n",
        "    nom_hilo = threading.current_thread().getName()\n",
        "    contador = 1\n",
        "    while contador <=10:\n",
        "        print(nom_hilo, 'ejecuta su trabajo', contador)\n",
        "        time.sleep(0.1)\n",
        "        contador+=1\n",
        "    print(nom_hilo, 'ha terminado su trabajo')\n",
        " \n",
        "hilo1 = threading.Timer(100, retrasado)\n",
        "hilo1.setName('hilo1')\n",
        "hilo2 = threading.Timer(250, retrasado)\n",
        "hilo2.setName('hilo2')\n",
        " \n",
        "hilo1.start()\n",
        "hilo2.start()\n",
        "print('hilo1 espera 0.2 segundos')\n",
        "print('hilo2 espera 0.5 segundos')\n",
        " \n",
        "time.sleep(0.3)\n",
        "print('hilo2 va a ser cancelado')\n",
        "hilo2.cancel()\n",
        "print('hilo2 fue cancelado antes de iniciar su ejecución')"
      ],
      "execution_count": null,
      "outputs": [
        {
          "output_type": "stream",
          "text": [
            "hilo1 espera 0.2 segundos\n",
            "hilo2 espera 0.5 segundos\n",
            "hilo2 va a ser cancelado\n",
            "hilo2 fue cancelado antes de iniciar su ejecución\n"
          ],
          "name": "stdout"
        }
      ]
    }
  ]
}